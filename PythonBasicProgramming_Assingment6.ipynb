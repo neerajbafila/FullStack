{
 "cells": [
  {
   "cell_type": "code",
   "execution_count": 1,
   "id": "63412615",
   "metadata": {},
   "outputs": [],
   "source": [
    "# 1.\tWrite a Python Program to Display Fibonacci Sequence Using Recursion?"
   ]
  },
  {
   "cell_type": "code",
   "execution_count": 10,
   "id": "45f411ac",
   "metadata": {},
   "outputs": [],
   "source": [
    "def Fibonacci(n):\n",
    "    if n<=1:\n",
    "        return n\n",
    "    else:\n",
    "        return Fibonacci(n-1)+Fibonacci(n-2)\n",
    "    "
   ]
  },
  {
   "cell_type": "code",
   "execution_count": 13,
   "id": "7735f6ac",
   "metadata": {},
   "outputs": [
    {
     "name": "stdout",
     "output_type": "stream",
     "text": [
      "0\n",
      "1\n",
      "1\n",
      "2\n",
      "3\n",
      "5\n",
      "8\n",
      "13\n",
      "21\n",
      "34\n"
     ]
    }
   ],
   "source": [
    "for i in range(10):\n",
    "    print(Fibonacci(i))"
   ]
  },
  {
   "cell_type": "code",
   "execution_count": null,
   "id": "5a862021",
   "metadata": {},
   "outputs": [],
   "source": []
  },
  {
   "cell_type": "code",
   "execution_count": 14,
   "id": "d2456bb3",
   "metadata": {},
   "outputs": [],
   "source": [
    "# 2.\tWrite a Python Program to Find Factorial of Number Using Recursion?"
   ]
  },
  {
   "cell_type": "code",
   "execution_count": 23,
   "id": "7e73e49a",
   "metadata": {},
   "outputs": [],
   "source": [
    "def factorial(n):\n",
    "    if n==0:\n",
    "        return 1\n",
    "    else:\n",
    "        fact = factorial(n-1)*n\n",
    "    return fact\n",
    "    "
   ]
  },
  {
   "cell_type": "code",
   "execution_count": 27,
   "id": "363acdbe",
   "metadata": {},
   "outputs": [
    {
     "data": {
      "text/plain": [
       "720"
      ]
     },
     "execution_count": 27,
     "metadata": {},
     "output_type": "execute_result"
    }
   ],
   "source": [
    "factorial(6)"
   ]
  },
  {
   "cell_type": "code",
   "execution_count": null,
   "id": "dc27b24b",
   "metadata": {},
   "outputs": [],
   "source": []
  },
  {
   "cell_type": "code",
   "execution_count": 28,
   "id": "4a3db2da",
   "metadata": {},
   "outputs": [],
   "source": [
    "# 3.\tWrite a Python Program to calculate your Body Mass Index?\n",
    "# BMI = weight/height**2"
   ]
  },
  {
   "cell_type": "code",
   "execution_count": 32,
   "id": "8fe795a3",
   "metadata": {},
   "outputs": [
    {
     "name": "stdout",
     "output_type": "stream",
     "text": [
      "please enter your height in centimeter :->171\n",
      "please enter your weight in Kg :->65\n",
      "your BMI is 22.2290619335864 \n"
     ]
    }
   ],
   "source": [
    "height = float(input(\"please enter your height in centimeter :->\"))\n",
    "weight = float(input(\"please enter your weight in Kg :->\"))\n",
    "BMI = (weight/(height**2)) * 10000\n",
    "print('your BMI is {} '.format(BMI))"
   ]
  },
  {
   "cell_type": "code",
   "execution_count": null,
   "id": "c36a526f",
   "metadata": {},
   "outputs": [],
   "source": []
  },
  {
   "cell_type": "code",
   "execution_count": 33,
   "id": "bcab82b6",
   "metadata": {},
   "outputs": [],
   "source": [
    "# 4.\tWrite a Python Program to calculate the natural logarithm of any number?"
   ]
  },
  {
   "cell_type": "code",
   "execution_count": 34,
   "id": "339655af",
   "metadata": {},
   "outputs": [],
   "source": [
    "import math\n",
    "def find_log(a):\n",
    "    print(f\"log of {a} is {math.log(a)}\")"
   ]
  },
  {
   "cell_type": "code",
   "execution_count": 35,
   "id": "ecb0553d",
   "metadata": {},
   "outputs": [
    {
     "name": "stdout",
     "output_type": "stream",
     "text": [
      "log of 50 is 3.912023005428146\n"
     ]
    }
   ],
   "source": [
    "find_log(50)"
   ]
  },
  {
   "cell_type": "code",
   "execution_count": null,
   "id": "d67c0c72",
   "metadata": {},
   "outputs": [],
   "source": []
  },
  {
   "cell_type": "code",
   "execution_count": 36,
   "id": "f801542f",
   "metadata": {},
   "outputs": [],
   "source": [
    "# 5.\tWrite a Python Program for cube sum of first n natural numbers?\n",
    "# (n ( n + 1 ) / 2) ^ 2"
   ]
  },
  {
   "cell_type": "code",
   "execution_count": 39,
   "id": "892d6dee",
   "metadata": {},
   "outputs": [],
   "source": [
    "def cube_sum(n):\n",
    "    cube_su = (n*(n+1)/2)**2\n",
    "    print(f\"cube sum of first {n} natural numbers is {cube_su} \")"
   ]
  },
  {
   "cell_type": "code",
   "execution_count": 44,
   "id": "6bd7b906",
   "metadata": {},
   "outputs": [
    {
     "name": "stdout",
     "output_type": "stream",
     "text": [
      "cube sum of first 5 natural numbers is 225.0 \n"
     ]
    }
   ],
   "source": [
    "cube_sum(5)"
   ]
  },
  {
   "cell_type": "code",
   "execution_count": null,
   "id": "336b1f08",
   "metadata": {},
   "outputs": [],
   "source": []
  }
 ],
 "metadata": {
  "kernelspec": {
   "display_name": "Python 3",
   "language": "python",
   "name": "python3"
  },
  "language_info": {
   "codemirror_mode": {
    "name": "ipython",
    "version": 3
   },
   "file_extension": ".py",
   "mimetype": "text/x-python",
   "name": "python",
   "nbconvert_exporter": "python",
   "pygments_lexer": "ipython3",
   "version": "3.8.10"
  }
 },
 "nbformat": 4,
 "nbformat_minor": 5
}
