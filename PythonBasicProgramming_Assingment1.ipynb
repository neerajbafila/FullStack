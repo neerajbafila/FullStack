{
 "cells": [
  {
   "cell_type": "code",
   "execution_count": 1,
   "id": "74f1907b",
   "metadata": {},
   "outputs": [],
   "source": [
    "# 1.\tWrite a Python program to print \"Hello Python\"?"
   ]
  },
  {
   "cell_type": "code",
   "execution_count": 3,
   "id": "4822d9d7",
   "metadata": {},
   "outputs": [
    {
     "name": "stdout",
     "output_type": "stream",
     "text": [
      "Hello Python\n"
     ]
    }
   ],
   "source": [
    "print(\"Hello Python\")"
   ]
  },
  {
   "cell_type": "code",
   "execution_count": 4,
   "id": "39877de5",
   "metadata": {},
   "outputs": [],
   "source": [
    "# 2.\tWrite a Python program to do arithmetical operations addition and division.?"
   ]
  },
  {
   "cell_type": "code",
   "execution_count": 19,
   "id": "93f3e21c",
   "metadata": {},
   "outputs": [
    {
     "name": "stdout",
     "output_type": "stream",
     "text": [
      "enter the first no 12\n",
      "enter the second no 13\n",
      "enter 1 for addition and 2 for division1\n",
      "addtion is  25\n"
     ]
    }
   ],
   "source": [
    "user_data_1 = int(input('enter the first no '))\n",
    "user_data_2 = int(input('enter the second no '))\n",
    "user_op = int(input(\"enter 1 for addition and 2 for division\"))\n",
    "if user_op == 1:\n",
    "    print('addtion is ', user_data_1+user_data_2)\n",
    "    \n",
    "if user_op == 2:\n",
    "    print('division is ', user_data_1/user_data_2)\n",
    "    "
   ]
  },
  {
   "cell_type": "code",
   "execution_count": 26,
   "id": "b36d0294",
   "metadata": {},
   "outputs": [
    {
     "name": "stdout",
     "output_type": "stream",
     "text": [
      "enter the first no 15.7\n",
      "enter the second no 3\n",
      "enter 1 for addition and 2 for division2\n",
      "division is  5.233333333333333\n"
     ]
    }
   ],
   "source": [
    "user_data_1 = float(input('enter the first no '))\n",
    "user_data_2 = float(input('enter the second no '))\n",
    "user_op = int(input(\"enter 1 for addition and 2 for division\"))\n",
    "if user_op == 1:\n",
    "    print('addtion is ', user_data_1+user_data_2)\n",
    "    \n",
    "if user_op == 2:\n",
    "    print('division is ', user_data_1/user_data_2)\n",
    "    "
   ]
  },
  {
   "cell_type": "code",
   "execution_count": null,
   "id": "31b4af8c",
   "metadata": {},
   "outputs": [],
   "source": []
  },
  {
   "cell_type": "code",
   "execution_count": 21,
   "id": "fb750d67",
   "metadata": {},
   "outputs": [],
   "source": [
    "# 3.\tWrite a Python program to find the area of a triangle?"
   ]
  },
  {
   "cell_type": "code",
   "execution_count": 28,
   "id": "7a114ba0",
   "metadata": {},
   "outputs": [
    {
     "name": "stdout",
     "output_type": "stream",
     "text": [
      "enter the value of b 21.3\n",
      "enter the value of h 15.5\n",
      "area of triangle is 165.07500000000002\n"
     ]
    }
   ],
   "source": [
    "# Area of a Triangle = A = ½ (b × h)\n",
    "b = float(input('enter the value of b '))\n",
    "h = float(input('enter the value of h '))\n",
    "area = 1/2*(b*h)\n",
    "print('area of triangle is {}'.format(area))"
   ]
  },
  {
   "cell_type": "code",
   "execution_count": 29,
   "id": "6042a12c",
   "metadata": {},
   "outputs": [],
   "source": [
    "# 4.\tWrite a Python program to swap two variables?"
   ]
  },
  {
   "cell_type": "code",
   "execution_count": 31,
   "id": "6228c50d",
   "metadata": {},
   "outputs": [
    {
     "name": "stdout",
     "output_type": "stream",
     "text": [
      "Original value of a is  10\n",
      "Original value of b is  12\n",
      "Now a is  12\n",
      "Now b is  10\n"
     ]
    }
   ],
   "source": [
    "a = 10\n",
    "b = 12\n",
    "print(\"Original value of a is \", a)\n",
    "print('Original value of b is ', b)\n",
    "b, a = a, b\n",
    "print(\"Now a is \", a)\n",
    "print('Now b is ', b)\n"
   ]
  },
  {
   "cell_type": "code",
   "execution_count": 32,
   "id": "0521a4b7",
   "metadata": {},
   "outputs": [],
   "source": [
    "# 5.\tWrite a Python program to generate a random number?"
   ]
  },
  {
   "cell_type": "code",
   "execution_count": 51,
   "id": "5a55f9a4",
   "metadata": {},
   "outputs": [
    {
     "name": "stdout",
     "output_type": "stream",
     "text": [
      "random no is  81\n"
     ]
    }
   ],
   "source": [
    "import random\n",
    "data = random.randint(1,100)\n",
    "print('random no is ', data)"
   ]
  },
  {
   "cell_type": "code",
   "execution_count": 52,
   "id": "78acaf28",
   "metadata": {},
   "outputs": [
    {
     "name": "stdout",
     "output_type": "stream",
     "text": [
      "random no is  49\n"
     ]
    }
   ],
   "source": [
    "import random\n",
    "data = random.randint(1,100)\n",
    "print('random no is ', data)"
   ]
  },
  {
   "cell_type": "code",
   "execution_count": null,
   "id": "94696a02",
   "metadata": {},
   "outputs": [],
   "source": []
  },
  {
   "cell_type": "code",
   "execution_count": null,
   "id": "ac641234",
   "metadata": {},
   "outputs": [],
   "source": []
  },
  {
   "cell_type": "code",
   "execution_count": null,
   "id": "c14f8c30",
   "metadata": {},
   "outputs": [],
   "source": []
  }
 ],
 "metadata": {
  "kernelspec": {
   "display_name": "Python 3",
   "language": "python",
   "name": "python3"
  },
  "language_info": {
   "codemirror_mode": {
    "name": "ipython",
    "version": 3
   },
   "file_extension": ".py",
   "mimetype": "text/x-python",
   "name": "python",
   "nbconvert_exporter": "python",
   "pygments_lexer": "ipython3",
   "version": "3.8.10"
  }
 },
 "nbformat": 4,
 "nbformat_minor": 5
}
