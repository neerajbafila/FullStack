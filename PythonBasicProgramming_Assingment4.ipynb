{
 "cells": [
  {
   "cell_type": "code",
   "execution_count": 1,
   "id": "fc7497fa",
   "metadata": {},
   "outputs": [],
   "source": [
    "# 1.\tWrite a Python Program to Find the Factorial of a Number?"
   ]
  },
  {
   "cell_type": "code",
   "execution_count": 5,
   "id": "66a6bc0f",
   "metadata": {},
   "outputs": [
    {
     "name": "stdout",
     "output_type": "stream",
     "text": [
      "Enter the no 5\n",
      "factorial of 5 is 120\n"
     ]
    }
   ],
   "source": [
    "def fact_of_no(n):\n",
    "    if n==0:\n",
    "        return 1\n",
    "    else:\n",
    "        return n*fact_of_no(n-1)\n",
    "user_input = int(input('Enter the no '))\n",
    "result = fact_of_no(user_input)\n",
    "print('factorial of {} is {}'.format(user_input, result))"
   ]
  },
  {
   "cell_type": "code",
   "execution_count": 6,
   "id": "abf5fa13",
   "metadata": {},
   "outputs": [],
   "source": [
    "# 2.\tWrite a Python Program to Display the multiplication Table?"
   ]
  },
  {
   "cell_type": "code",
   "execution_count": 22,
   "id": "ee762644",
   "metadata": {},
   "outputs": [
    {
     "name": "stdout",
     "output_type": "stream",
     "text": [
      "Please enter the no 10\n",
      "10 *  1 = 10\n",
      "10 *  2 = 20\n",
      "10 *  3 = 30\n",
      "10 *  4 = 40\n",
      "10 *  5 = 50\n",
      "10 *  6 = 60\n",
      "10 *  7 = 70\n",
      "10 *  8 = 80\n",
      "10 *  9 = 90\n",
      "10 *  10 = 100\n"
     ]
    }
   ],
   "source": [
    "def table(n):\n",
    "    for i in range(1,11):\n",
    "        mul = i*n\n",
    "#         print(mul)\n",
    "        print(\"{} *  {} = {}\".format(n,i,n*i))\n",
    "user_input = int(input('Please enter the no '))\n",
    "table(user_input)"
   ]
  },
  {
   "cell_type": "code",
   "execution_count": null,
   "id": "da0b0ab7",
   "metadata": {},
   "outputs": [],
   "source": []
  },
  {
   "cell_type": "code",
   "execution_count": 23,
   "id": "87e1f3e5",
   "metadata": {},
   "outputs": [],
   "source": [
    "# 3.\tWrite a Python Program to Print the Fibonacci sequence?"
   ]
  },
  {
   "cell_type": "code",
   "execution_count": 38,
   "id": "77e702dc",
   "metadata": {},
   "outputs": [
    {
     "name": "stdout",
     "output_type": "stream",
     "text": [
      "Enter the no 10\n",
      "1\n",
      "2\n",
      "3\n",
      "5\n",
      "8\n",
      "13\n",
      "21\n",
      "34\n",
      "55\n",
      "89\n"
     ]
    }
   ],
   "source": [
    "def febo(n, first_no=0, second_no=1):\n",
    "    if n==0:\n",
    "        return 0\n",
    "    else:\n",
    "        res = first_no+second_no\n",
    "        print(res)\n",
    "        febo(n-1, second_no, res)\n",
    "user_input =int(input('Enter the no '))\n",
    "febo(user_input, 0, 1)"
   ]
  },
  {
   "cell_type": "code",
   "execution_count": null,
   "id": "31d45e9d",
   "metadata": {},
   "outputs": [],
   "source": []
  },
  {
   "cell_type": "code",
   "execution_count": 39,
   "id": "9a44f327",
   "metadata": {},
   "outputs": [],
   "source": [
    "# 4.\tWrite a Python Program to Check Armstrong Number?"
   ]
  },
  {
   "cell_type": "code",
   "execution_count": 50,
   "id": "a798a8e8",
   "metadata": {},
   "outputs": [
    {
     "name": "stdout",
     "output_type": "stream",
     "text": [
      "Please enter the no 371\n",
      "it is Armstrong Number \n"
     ]
    }
   ],
   "source": [
    "user_input = input('Please enter the no ')\n",
    "no = int(user_input)\n",
    "sum = 0\n",
    "for i in user_input:\n",
    "    i = int(i)\n",
    "    sum +=i**3\n",
    "if sum==no:\n",
    "    print('it is Armstrong Number ')\n",
    "elif sum!=no:\n",
    "    print('it is not a Armstrong Number ')"
   ]
  },
  {
   "cell_type": "code",
   "execution_count": null,
   "id": "b03564b1",
   "metadata": {},
   "outputs": [],
   "source": []
  },
  {
   "cell_type": "code",
   "execution_count": 51,
   "id": "9c0eb1d3",
   "metadata": {},
   "outputs": [],
   "source": [
    "# 5.\tWrite a Python Program to Find Armstrong Number in an Interval?"
   ]
  },
  {
   "cell_type": "code",
   "execution_count": 71,
   "id": "ff7fdba9",
   "metadata": {},
   "outputs": [
    {
     "name": "stdout",
     "output_type": "stream",
     "text": [
      "Armstrong Number in range 0 to 372 are  [0, 1, 153, 370, 371]\n"
     ]
    }
   ],
   "source": [
    "Armstrong_no = []\n",
    "for i in range(0,372):\n",
    "    sum = 0\n",
    "    str_i = str(i)\n",
    "    for j in str_i:\n",
    "        j = int(j)\n",
    "        sum +=j**3\n",
    "    if sum == i:\n",
    "        Armstrong_no.append(i)\n",
    "    elif sum!=i:\n",
    "        pass\n",
    "print('Armstrong Number in range 0 to 372 are ', Armstrong_no)\n",
    "        \n",
    "    \n",
    "    "
   ]
  },
  {
   "cell_type": "code",
   "execution_count": null,
   "id": "69cb9e7b",
   "metadata": {},
   "outputs": [],
   "source": []
  },
  {
   "cell_type": "code",
   "execution_count": 72,
   "id": "4e2bd3d4",
   "metadata": {},
   "outputs": [],
   "source": [
    "# 6.\tWrite a Python Program to Find the Sum of Natural Numbers?"
   ]
  },
  {
   "cell_type": "code",
   "execution_count": 83,
   "id": "ab913acc",
   "metadata": {},
   "outputs": [
    {
     "name": "stdout",
     "output_type": "stream",
     "text": [
      "Please enter the postive number 20\n",
      "sum is  210\n"
     ]
    }
   ],
   "source": [
    "user_input = input('Please enter the postive number ')\n",
    "if '.' in user_input:\n",
    "    print('Please enter whole no ')\n",
    "else:\n",
    "    user_input = int(user_input)\n",
    "    if user_input > 0:\n",
    "        sum = 0\n",
    "        for i in range(user_input+1):\n",
    "            sum += i\n",
    "        print(\"sum is \", sum)"
   ]
  },
  {
   "cell_type": "code",
   "execution_count": null,
   "id": "a0a9eb7d",
   "metadata": {},
   "outputs": [],
   "source": []
  }
 ],
 "metadata": {
  "kernelspec": {
   "display_name": "Python 3",
   "language": "python",
   "name": "python3"
  },
  "language_info": {
   "codemirror_mode": {
    "name": "ipython",
    "version": 3
   },
   "file_extension": ".py",
   "mimetype": "text/x-python",
   "name": "python",
   "nbconvert_exporter": "python",
   "pygments_lexer": "ipython3",
   "version": "3.8.10"
  }
 },
 "nbformat": 4,
 "nbformat_minor": 5
}
