{
 "cells": [
  {
   "cell_type": "code",
   "execution_count": 1,
   "id": "3ccd8e3e",
   "metadata": {},
   "outputs": [],
   "source": [
    "# 1.\tWrite a Python Program to find sum of array?"
   ]
  },
  {
   "cell_type": "code",
   "execution_count": 279,
   "id": "b889a36c",
   "metadata": {},
   "outputs": [],
   "source": [
    "import numpy as np"
   ]
  },
  {
   "cell_type": "code",
   "execution_count": 280,
   "id": "f86841b5",
   "metadata": {},
   "outputs": [],
   "source": [
    "arr = np.array([1,2,3,4])"
   ]
  },
  {
   "cell_type": "code",
   "execution_count": 281,
   "id": "12dd75c9",
   "metadata": {},
   "outputs": [
    {
     "data": {
      "text/plain": [
       "10"
      ]
     },
     "execution_count": 281,
     "metadata": {},
     "output_type": "execute_result"
    }
   ],
   "source": [
    "sum(arr)"
   ]
  },
  {
   "cell_type": "code",
   "execution_count": null,
   "id": "7af53236",
   "metadata": {},
   "outputs": [],
   "source": []
  },
  {
   "cell_type": "code",
   "execution_count": 282,
   "id": "37ff0986",
   "metadata": {},
   "outputs": [],
   "source": [
    "# 2.\tWrite a Python Program to find largest element in an array?"
   ]
  },
  {
   "cell_type": "code",
   "execution_count": 283,
   "id": "8047f1a4",
   "metadata": {},
   "outputs": [],
   "source": [
    "arr2 = np.asanyarray([[1,2,20,4],[5,6,7,8]])"
   ]
  },
  {
   "cell_type": "code",
   "execution_count": 284,
   "id": "71af5223",
   "metadata": {},
   "outputs": [
    {
     "data": {
      "text/plain": [
       "array([[ 1,  2, 20,  4],\n",
       "       [ 5,  6,  7,  8]])"
      ]
     },
     "execution_count": 284,
     "metadata": {},
     "output_type": "execute_result"
    }
   ],
   "source": [
    "arr2"
   ]
  },
  {
   "cell_type": "code",
   "execution_count": 285,
   "id": "f792878b",
   "metadata": {},
   "outputs": [
    {
     "name": "stdout",
     "output_type": "stream",
     "text": [
      "Largest element in an array \n",
      " [[ 1  2 20  4]\n",
      " [ 5  6  7  8]]  \n",
      " is 20 \n"
     ]
    }
   ],
   "source": [
    "print(f\"Largest element in an array \\n {arr2}  \\n is {arr2.max()} \")"
   ]
  },
  {
   "cell_type": "code",
   "execution_count": null,
   "id": "126136d4",
   "metadata": {},
   "outputs": [],
   "source": []
  },
  {
   "cell_type": "code",
   "execution_count": 286,
   "id": "15f3ebe7",
   "metadata": {},
   "outputs": [],
   "source": [
    "# 3.\tWrite a Python Program for array rotation?"
   ]
  },
  {
   "cell_type": "code",
   "execution_count": 287,
   "id": "e64e76a1",
   "metadata": {},
   "outputs": [],
   "source": [
    "arr3 = np.asarray([[1,2,20,4],[5,6,7,8]])\n"
   ]
  },
  {
   "cell_type": "code",
   "execution_count": 288,
   "id": "e24a4dc7",
   "metadata": {},
   "outputs": [
    {
     "data": {
      "text/plain": [
       "array([[ 1,  2, 20,  4],\n",
       "       [ 5,  6,  7,  8]])"
      ]
     },
     "execution_count": 288,
     "metadata": {},
     "output_type": "execute_result"
    }
   ],
   "source": [
    "arr3"
   ]
  },
  {
   "cell_type": "code",
   "execution_count": 289,
   "id": "e79f447f",
   "metadata": {},
   "outputs": [
    {
     "data": {
      "text/plain": [
       "array([[ 1,  5],\n",
       "       [ 2,  6],\n",
       "       [20,  7],\n",
       "       [ 4,  8]])"
      ]
     },
     "execution_count": 289,
     "metadata": {},
     "output_type": "execute_result"
    }
   ],
   "source": [
    "arr3.T"
   ]
  },
  {
   "cell_type": "code",
   "execution_count": null,
   "id": "b5b446c4",
   "metadata": {},
   "outputs": [],
   "source": []
  },
  {
   "cell_type": "code",
   "execution_count": 290,
   "id": "772861a8",
   "metadata": {},
   "outputs": [],
   "source": [
    "# 4.\tWrite a Python Program to Split the array and add the first part to the end?"
   ]
  },
  {
   "cell_type": "code",
   "execution_count": 291,
   "id": "56dcf52b",
   "metadata": {},
   "outputs": [],
   "source": [
    "arr4 = np.asarray([[1,2,20,4],[5,6,7,8]])"
   ]
  },
  {
   "cell_type": "code",
   "execution_count": 292,
   "id": "edb2d3e6",
   "metadata": {},
   "outputs": [],
   "source": [
    "art = np.array([1,2,3,4])"
   ]
  },
  {
   "cell_type": "code",
   "execution_count": 293,
   "id": "a8224bab",
   "metadata": {},
   "outputs": [],
   "source": [
    "import copy\n",
    "def arrSpliter(arr, postion):\n",
    "    n = len(arr)\n",
    "    for i in range(0,postion):\n",
    "        x = copy.copy(arr[0])\n",
    "        for j in range(0,n-1):\n",
    "            arr[j] = arr[j+1]\n",
    "        arr[n-1] = x\n",
    "    print(arr)\n",
    "        \n",
    "    "
   ]
  },
  {
   "cell_type": "code",
   "execution_count": 294,
   "id": "7f6804ac",
   "metadata": {},
   "outputs": [
    {
     "name": "stdout",
     "output_type": "stream",
     "text": [
      "Array before [1 2 3 4]\n"
     ]
    }
   ],
   "source": [
    "print(f'Array before {art}')"
   ]
  },
  {
   "cell_type": "code",
   "execution_count": 295,
   "id": "c5ee7130",
   "metadata": {},
   "outputs": [
    {
     "name": "stdout",
     "output_type": "stream",
     "text": [
      "Array After is \n",
      "[3 4 1 2]\n"
     ]
    }
   ],
   "source": [
    "print('Array After is ')\n",
    "arrSpliter(art,2)"
   ]
  },
  {
   "cell_type": "code",
   "execution_count": 296,
   "id": "db710643",
   "metadata": {},
   "outputs": [
    {
     "name": "stdout",
     "output_type": "stream",
     "text": [
      "Array before [[ 1  2 20  4]\n",
      " [ 5  6  7  8]]\n"
     ]
    }
   ],
   "source": [
    "print(f'Array before {arr4}')"
   ]
  },
  {
   "cell_type": "code",
   "execution_count": 297,
   "id": "5eaec0f7",
   "metadata": {},
   "outputs": [
    {
     "name": "stdout",
     "output_type": "stream",
     "text": [
      "Array After is \n",
      "[[ 5  6  7  8]\n",
      " [ 1  2 20  4]]\n"
     ]
    }
   ],
   "source": [
    "print('Array After is ')\n",
    "arrSpliter(arr4,1)"
   ]
  },
  {
   "cell_type": "code",
   "execution_count": null,
   "id": "2a48a4fc",
   "metadata": {},
   "outputs": [],
   "source": []
  },
  {
   "cell_type": "code",
   "execution_count": 298,
   "id": "f075449a",
   "metadata": {},
   "outputs": [],
   "source": [
    "# 5.\tWrite a Python Program to check if given array is Monotonic?\n",
    "# An array is monotonic if it is either monotone increasing or monotone decreasing."
   ]
  },
  {
   "cell_type": "code",
   "execution_count": 299,
   "id": "0f39cdea",
   "metadata": {},
   "outputs": [],
   "source": [
    "def monotonicCheck(arr):\n",
    "    increasing = True\n",
    "    decreasing = True\n",
    "    n = len(arr)\n",
    "    for i in range(0,n-1):\n",
    "        if arr[i] > arr[i+1]:\n",
    "            increasing = False\n",
    "        if arr[i] < arr[i+1]:\n",
    "            decreasing = False\n",
    "    if (increasing ==True) or (decreasing==True):\n",
    "        print(f\"{arr} is Monotonic array\")\n",
    "    else:\n",
    "        print(f\"{arr} is Not Monotonic array\")\n",
    "        "
   ]
  },
  {
   "cell_type": "code",
   "execution_count": 300,
   "id": "241b5e30",
   "metadata": {},
   "outputs": [],
   "source": [
    "testarr = np.array([1,2,2,3]) "
   ]
  },
  {
   "cell_type": "code",
   "execution_count": 301,
   "id": "99bd7405",
   "metadata": {},
   "outputs": [
    {
     "name": "stdout",
     "output_type": "stream",
     "text": [
      "[1 2 2 3] is Monotonic array\n"
     ]
    }
   ],
   "source": [
    "monotonicCheck(testarr)"
   ]
  },
  {
   "cell_type": "code",
   "execution_count": 302,
   "id": "e5750c7a",
   "metadata": {},
   "outputs": [],
   "source": [
    "testarr2 = np.array([5,15, 20, 10])"
   ]
  },
  {
   "cell_type": "code",
   "execution_count": 303,
   "id": "a2ae3e4f",
   "metadata": {},
   "outputs": [
    {
     "name": "stdout",
     "output_type": "stream",
     "text": [
      "[ 5 15 20 10] is Not Monotonic array\n"
     ]
    }
   ],
   "source": [
    "monotonicCheck(testarr2)"
   ]
  },
  {
   "cell_type": "code",
   "execution_count": null,
   "id": "6df9e254",
   "metadata": {},
   "outputs": [],
   "source": []
  }
 ],
 "metadata": {
  "kernelspec": {
   "display_name": "Python 3",
   "language": "python",
   "name": "python3"
  },
  "language_info": {
   "codemirror_mode": {
    "name": "ipython",
    "version": 3
   },
   "file_extension": ".py",
   "mimetype": "text/x-python",
   "name": "python",
   "nbconvert_exporter": "python",
   "pygments_lexer": "ipython3",
   "version": "3.8.10"
  }
 },
 "nbformat": 4,
 "nbformat_minor": 5
}
