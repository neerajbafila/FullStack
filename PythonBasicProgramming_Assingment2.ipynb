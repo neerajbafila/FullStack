{
 "cells": [
  {
   "cell_type": "code",
   "execution_count": 3,
   "id": "4d2268c4",
   "metadata": {},
   "outputs": [],
   "source": [
    "# 1.\tWrite a Python program to convert kilometers to miles?\n",
    "# 1 km = 0.621371"
   ]
  },
  {
   "cell_type": "code",
   "execution_count": 25,
   "id": "6cbdb4d8",
   "metadata": {},
   "outputs": [
    {
     "name": "stdout",
     "output_type": "stream",
     "text": [
      "Please enter km value which you want to convert Miles161.8\n",
      "161.8 km in mile is 100.5378278 mile\n"
     ]
    }
   ],
   "source": [
    "try:\n",
    "    km = float(input('Please enter km value which you want to convert in Miles'))\n",
    "    mile = km * 0.621371\n",
    "    print(\"{} km in mile is {} mile\".format(km,mile))            \n",
    "except ValueError as e:\n",
    "    print('this is not a number')"
   ]
  },
  {
   "cell_type": "code",
   "execution_count": 26,
   "id": "73e9edae",
   "metadata": {},
   "outputs": [],
   "source": [
    "# 2.\tWrite a Python program to convert Celsius to Fahrenheit?\n",
    "# To convert temperatures in degrees Celsius to Fahrenheit, multiply by 1.8 (or 9/5) and add 32."
   ]
  },
  {
   "cell_type": "code",
   "execution_count": 29,
   "id": "e4a98b0b",
   "metadata": {},
   "outputs": [
    {
     "name": "stdout",
     "output_type": "stream",
     "text": [
      "Please enter Celsius value which you want to convert in Fahrenheit 36\n",
      "36.0 Celsius in Fahrenheit is 96.8 Fahrenheit\n"
     ]
    }
   ],
   "source": [
    "try:\n",
    "    Celsius = float(input('Please enter Celsius value which you want to convert in Fahrenheit '))\n",
    "    Fahrenheit = (Celsius * 1.8) +32\n",
    "    print(\"{} Celsius in Fahrenheit is {} Fahrenheit\".format(Celsius,Fahrenheit))            \n",
    "except ValueError as e:\n",
    "    print('this is not a number')"
   ]
  },
  {
   "cell_type": "code",
   "execution_count": 30,
   "id": "f20edfd1",
   "metadata": {},
   "outputs": [],
   "source": [
    "# 3.\tWrite a Python program to display calendar?"
   ]
  },
  {
   "cell_type": "code",
   "execution_count": 33,
   "id": "b5153feb",
   "metadata": {},
   "outputs": [
    {
     "name": "stdout",
     "output_type": "stream",
     "text": [
      "     July 2021\n",
      "Mo Tu We Th Fr Sa Su\n",
      "          1  2  3  4\n",
      " 5  6  7  8  9 10 11\n",
      "12 13 14 15 16 17 18\n",
      "19 20 21 22 23 24 25\n",
      "26 27 28 29 30 31\n",
      "\n"
     ]
    }
   ],
   "source": [
    "import calendar\n",
    "year = 2021\n",
    "mm = 7\n",
    "print(calendar.month(year, mm))"
   ]
  },
  {
   "cell_type": "code",
   "execution_count": 38,
   "id": "afb633fe",
   "metadata": {},
   "outputs": [],
   "source": [
    "# 4.\tWrite a Python program to solve quadratic equation?\n",
    "# ax2 + bx + c = 0\n",
    "# x=−b± (√b**2−4ac)/2a"
   ]
  },
  {
   "cell_type": "code",
   "execution_count": 74,
   "id": "c4eab01e",
   "metadata": {},
   "outputs": [
    {
     "name": "stdout",
     "output_type": "stream",
     "text": [
      "Enter the value of a 1\n",
      "Enter the value of b 10\n",
      "Enter the value of c -24\n",
      "Solution is 2.0 and -12.0 \n"
     ]
    }
   ],
   "source": [
    "import math\n",
    "\n",
    "try:\n",
    "    a = float(input('Enter the value of a '))\n",
    "    b = float(input('Enter the value of b '))\n",
    "    c = float(input('Enter the value of c '))\n",
    "#     x = float(input('Enter the value of x '))\n",
    "except Exception as e:\n",
    "    print(e)\n",
    "try:\n",
    "    val = abs((b**2)-4*(a*c))\n",
    "#     print(val)\n",
    "    sqt = math.sqrt(val)\n",
    "    ans_1 = (-b + sqt) / (2*a)\n",
    "    ans_2 = (-b - sqt) / (2*a)\n",
    "    print('Solution is {} and {} '.format(ans_1, ans_2))\n",
    "except Exception as e:\n",
    "    print(e)\n",
    "    \n"
   ]
  },
  {
   "cell_type": "code",
   "execution_count": null,
   "id": "54b13d89",
   "metadata": {},
   "outputs": [],
   "source": []
  },
  {
   "cell_type": "code",
   "execution_count": 75,
   "id": "04406531",
   "metadata": {},
   "outputs": [],
   "source": [
    "# 5.\tWrite a Python program to swap two variables without temp variable?"
   ]
  },
  {
   "cell_type": "code",
   "execution_count": 76,
   "id": "f3114729",
   "metadata": {},
   "outputs": [
    {
     "name": "stdout",
     "output_type": "stream",
     "text": [
      "Original value of a is  10\n",
      "Original value of b is  12\n",
      "Now a is  12\n",
      "Now b is  10\n"
     ]
    }
   ],
   "source": [
    "a = 10\n",
    "b = 12\n",
    "print(\"Original value of a is \", a)\n",
    "print('Original value of b is ', b)\n",
    "b, a = a, b\n",
    "print(\"Now a is \", a)\n",
    "print('Now b is ', b)\n"
   ]
  },
  {
   "cell_type": "code",
   "execution_count": null,
   "id": "be7bfeb4",
   "metadata": {},
   "outputs": [],
   "source": []
  }
 ],
 "metadata": {
  "kernelspec": {
   "display_name": "Python 3",
   "language": "python",
   "name": "python3"
  },
  "language_info": {
   "codemirror_mode": {
    "name": "ipython",
    "version": 3
   },
   "file_extension": ".py",
   "mimetype": "text/x-python",
   "name": "python",
   "nbconvert_exporter": "python",
   "pygments_lexer": "ipython3",
   "version": "3.8.10"
  }
 },
 "nbformat": 4,
 "nbformat_minor": 5
}
