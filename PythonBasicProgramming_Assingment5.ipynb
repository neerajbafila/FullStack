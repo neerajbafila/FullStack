{
 "cells": [
  {
   "cell_type": "code",
   "execution_count": 1,
   "id": "05a1c6ba",
   "metadata": {},
   "outputs": [],
   "source": [
    "# 1.\tWrite a Python Program to Find LCM?\n",
    "\n",
    "# LCM (a,b) = (a x b)/GCD(a,b)"
   ]
  },
  {
   "cell_type": "code",
   "execution_count": 2,
   "id": "2afe487e",
   "metadata": {},
   "outputs": [],
   "source": [
    "def find_gcd(a, b):\n",
    "    if (a!=0) and (b!=0):\n",
    "        rem = a%b\n",
    "        a = b\n",
    "        b = rem\n",
    "        result = find_gcd(a,b)\n",
    "        return result\n",
    "    elif (b==0):\n",
    "        return a\n"
   ]
  },
  {
   "cell_type": "code",
   "execution_count": 3,
   "id": "79ad16f0",
   "metadata": {},
   "outputs": [],
   "source": [
    "def find_LCM(a,b):\n",
    "    gcd = find_gcd(a,b)\n",
    "    lcm = (a*b) / gcd\n",
    "    print(f\"LCM of {a} and {b} is {lcm}\")\n",
    "    "
   ]
  },
  {
   "cell_type": "code",
   "execution_count": 4,
   "id": "b3c6840c",
   "metadata": {},
   "outputs": [
    {
     "name": "stdout",
     "output_type": "stream",
     "text": [
      "LCM of 270 and 192 is 8640.0\n"
     ]
    }
   ],
   "source": [
    "find_LCM(270, 192)"
   ]
  },
  {
   "cell_type": "code",
   "execution_count": null,
   "id": "cfb433c4",
   "metadata": {},
   "outputs": [],
   "source": []
  },
  {
   "cell_type": "code",
   "execution_count": 5,
   "id": "c9d19049",
   "metadata": {},
   "outputs": [],
   "source": [
    "# 2.\tWrite a Python Program to Find HCF?\n",
    "\n",
    "#  LCM (a,b) × HCF (a,b) = a × b"
   ]
  },
  {
   "cell_type": "code",
   "execution_count": 6,
   "id": "49519e59",
   "metadata": {},
   "outputs": [],
   "source": [
    "def find_LCM(a,b):\n",
    "    gcd = find_gcd(a,b)\n",
    "    lcm = (a*b) / gcd\n",
    "    return lcm"
   ]
  },
  {
   "cell_type": "code",
   "execution_count": 7,
   "id": "4768d2d6",
   "metadata": {},
   "outputs": [],
   "source": [
    "def find_hcf(a,b):\n",
    "    lcm = find_LCM(a,b)\n",
    "    hcf = (a*b) / lcm\n",
    "    print(f\"HCF of {a} and {b} is {hcf}\")"
   ]
  },
  {
   "cell_type": "code",
   "execution_count": 8,
   "id": "b7aa41b4",
   "metadata": {},
   "outputs": [
    {
     "name": "stdout",
     "output_type": "stream",
     "text": [
      "HCF of 270 and 192 is 6.0\n"
     ]
    }
   ],
   "source": [
    "find_hcf(270,192)"
   ]
  },
  {
   "cell_type": "code",
   "execution_count": null,
   "id": "3bb53a82",
   "metadata": {},
   "outputs": [],
   "source": []
  },
  {
   "cell_type": "code",
   "execution_count": 9,
   "id": "381d25af",
   "metadata": {},
   "outputs": [],
   "source": [
    "# 3.\tWrite a Python Program to Convert Decimal to Binary, Octal and Hexadecimal?"
   ]
  },
  {
   "cell_type": "code",
   "execution_count": 10,
   "id": "330c46aa",
   "metadata": {},
   "outputs": [],
   "source": [
    "# convert Decimal to Binary\n",
    "\n",
    "def convert_binary_internal(no, bin_no=[]):\n",
    "    if no==1:\n",
    "        bin_no.append(1)\n",
    "    elif no == 0:\n",
    "        bin_no.append(0)\n",
    "    else:\n",
    "        rem = no % 2\n",
    "        div = no // 2\n",
    "        bin_no.append(rem)\n",
    "        no = div\n",
    "        convert_binary_internal(no, bin_no)\n",
    "    return bin_no\n",
    "\n",
    "def binary_converter(a):\n",
    "    data = convert_binary_internal(a, bin_no=[])\n",
    "    if len(data)>0:\n",
    "        data.reverse()\n",
    "        binary_no = [\"\".join(str(i) for i in data)][0]\n",
    "    else:\n",
    "        binary_no = data\n",
    "    print(f\"{a} in Binary is {binary_no}\")\n",
    "    \n",
    "\n"
   ]
  },
  {
   "cell_type": "code",
   "execution_count": 11,
   "id": "2112dd0f",
   "metadata": {},
   "outputs": [
    {
     "name": "stdout",
     "output_type": "stream",
     "text": [
      "121 in Binary is 1111001\n"
     ]
    }
   ],
   "source": [
    "binary_converter(121)"
   ]
  },
  {
   "cell_type": "code",
   "execution_count": 12,
   "id": "98cf14f9",
   "metadata": {},
   "outputs": [],
   "source": [
    "# convert Decimal to Octal"
   ]
  },
  {
   "cell_type": "code",
   "execution_count": 13,
   "id": "a5274cf8",
   "metadata": {},
   "outputs": [],
   "source": [
    "def convert_Octal_internal(no, oct_no=[]):\n",
    "    if no==1:\n",
    "        oct_no.append(1)\n",
    "    elif no == 0:\n",
    "        oct_no.append(0)\n",
    "    else:\n",
    "        rem = no % 8\n",
    "        dev = no // 8\n",
    "        oct_no.append(rem)\n",
    "        no = dev\n",
    "        convert_Octal_internal(no, oct_no)\n",
    "    return oct_no\n",
    "\n",
    "def Octal_converter(a):\n",
    "    data = convert_Octal_internal(a, oct_no=[])\n",
    "    if len(data)>0:\n",
    "        data.reverse()\n",
    "        oct_no = [\"\".join(str(i) for i in data)][0]\n",
    "        oct_no = oct_no[1:] # removing zero @1 postion ex 071 will be 71\n",
    "    else:\n",
    "        oct_no = data\n",
    "    print(f\"{a} in Octal is {oct_no}\")\n",
    "        "
   ]
  },
  {
   "cell_type": "code",
   "execution_count": 14,
   "id": "a8b5181d",
   "metadata": {},
   "outputs": [
    {
     "name": "stdout",
     "output_type": "stream",
     "text": [
      "52 in Octal is 64\n"
     ]
    }
   ],
   "source": [
    "Octal_converter(52)"
   ]
  },
  {
   "cell_type": "code",
   "execution_count": 15,
   "id": "6157bf9d",
   "metadata": {},
   "outputs": [],
   "source": [
    "# # convert Decimal to Hexadecimal"
   ]
  },
  {
   "cell_type": "code",
   "execution_count": 16,
   "id": "a990ef43",
   "metadata": {},
   "outputs": [],
   "source": [
    "def convert_hexa_internal(no, hex_n=[]):\n",
    "    dic_hex = {10:'A', 11:'B', 12:'C', 13:'D', 14:'E', 15:'F'}\n",
    "    if no in range(10):\n",
    "        for i in range(10):\n",
    "            if no == i:\n",
    "                hex_n.append(i)\n",
    "    elif no in range(10,16):\n",
    "        for i in range(10,16):\n",
    "            if no == i:\n",
    "                temp = dic_hex[i]\n",
    "                hex_n.append(temp)\n",
    "    else:\n",
    "        rem = no % 16\n",
    "        div = no // 16\n",
    "        if rem in dic_hex:\n",
    "            temp = dic_hex[rem]\n",
    "            hex_n.append(temp)\n",
    "        else:\n",
    "            hex_n.append(rem)\n",
    "        no = div\n",
    "        convert_hexa_internal(no, hex_n)\n",
    "    return hex_n\n",
    "def hexa_converter(a, hex_n=[]):\n",
    "    data = convert_hexa_internal(a, hex_n=[])\n",
    "    if len(data)>0:\n",
    "        data.reverse()\n",
    "        hex_no = [\"\".join(str(i) for i in data)][0]\n",
    "    else:\n",
    "        hex_no = data\n",
    "    print(f\"{a} in Hexadecimal is {hex_no}\")\n",
    "    "
   ]
  },
  {
   "cell_type": "code",
   "execution_count": 17,
   "id": "05436932",
   "metadata": {},
   "outputs": [
    {
     "name": "stdout",
     "output_type": "stream",
     "text": [
      "30 in Hexadecimal is 1E\n"
     ]
    }
   ],
   "source": [
    "hexa_converter(30)"
   ]
  },
  {
   "cell_type": "code",
   "execution_count": null,
   "id": "9decff95",
   "metadata": {},
   "outputs": [],
   "source": []
  },
  {
   "cell_type": "code",
   "execution_count": null,
   "id": "a9076c3c",
   "metadata": {},
   "outputs": [],
   "source": []
  },
  {
   "cell_type": "code",
   "execution_count": 18,
   "id": "872b4a24",
   "metadata": {},
   "outputs": [],
   "source": [
    "# 4.\tWrite a Python Program To Find ASCII value of a character?"
   ]
  },
  {
   "cell_type": "code",
   "execution_count": 19,
   "id": "d6162e20",
   "metadata": {},
   "outputs": [
    {
     "name": "stdout",
     "output_type": "stream",
     "text": [
      "Please character which ASCII value you want to know :-N\n",
      "ASCII value of N is 78\n"
     ]
    }
   ],
   "source": [
    "user_input = input('Please character which ASCII value you want to know :-')\n",
    "print(f\"ASCII value of {user_input} is {ord(user_input)}\")"
   ]
  },
  {
   "cell_type": "code",
   "execution_count": null,
   "id": "54bf5bdb",
   "metadata": {},
   "outputs": [],
   "source": []
  },
  {
   "cell_type": "code",
   "execution_count": null,
   "id": "fd9fcd4a",
   "metadata": {},
   "outputs": [],
   "source": []
  },
  {
   "cell_type": "code",
   "execution_count": 20,
   "id": "d7115c9b",
   "metadata": {},
   "outputs": [],
   "source": [
    "# 5.\tWrite a Python Program to Make a Simple Calculator with 4 basic mathematical operations?\n"
   ]
  },
  {
   "cell_type": "code",
   "execution_count": 25,
   "id": "b474862f",
   "metadata": {},
   "outputs": [
    {
     "name": "stdout",
     "output_type": "stream",
     "text": [
      "enter the first no 12\n",
      "enter the second no 5\n",
      "enter 1 for addition and 2 for division 3 for subtract 4 for multiplication 4\n",
      "your choice is  4\n",
      "multiplication is  60.0\n"
     ]
    }
   ],
   "source": [
    "try:\n",
    "    user_data_1 = float(input('enter the first no '))\n",
    "    user_data_2 = float(input('enter the second no '))\n",
    "    user_op = int(input(\"enter 1 for addition and 2 for division 3 for subtract 4 for multiplication \"))\n",
    "    print(\"your choice is \", user_op)\n",
    "    data = \"ok\"\n",
    "except Exception as e:\n",
    "    print('This is not a valid number ')\n",
    "    data = \"not ok\"\n",
    "if data == \"ok\":\n",
    "    \n",
    "    if user_op == 1:\n",
    "        print('addtion is ', user_data_1+user_data_2)\n",
    "    \n",
    "    if user_op == 2:\n",
    "        print('division is ', user_data_1/user_data_2)\n",
    "\n",
    "    if user_op == 3:\n",
    "        print('subtract is ', user_data_1-user_data_2)\n",
    "\n",
    "    if user_op == 4:\n",
    "        print('multiplication is ', user_data_1*user_data_2)\n",
    "\n",
    "    "
   ]
  },
  {
   "cell_type": "code",
   "execution_count": null,
   "id": "c3b932d4",
   "metadata": {},
   "outputs": [],
   "source": []
  }
 ],
 "metadata": {
  "kernelspec": {
   "display_name": "Python 3",
   "language": "python",
   "name": "python3"
  },
  "language_info": {
   "codemirror_mode": {
    "name": "ipython",
    "version": 3
   },
   "file_extension": ".py",
   "mimetype": "text/x-python",
   "name": "python",
   "nbconvert_exporter": "python",
   "pygments_lexer": "ipython3",
   "version": "3.8.10"
  }
 },
 "nbformat": 4,
 "nbformat_minor": 5
}
